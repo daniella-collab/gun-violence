{
 "cells": [
  {
   "cell_type": "markdown",
   "id": "b85f174b-ebfc-48a6-aa2e-fdce44934874",
   "metadata": {},
   "source": [
    "##### Contents:\n",
    "###### 1. Import Libraries\n",
    "###### 2. Import data\n",
    "###### 3. Data cleaning"
   ]
  },
  {
   "cell_type": "markdown",
   "id": "21754d50-7691-48b5-9a8e-3f1376cc11c1",
   "metadata": {},
   "source": [
    "#### 1. Importing libraries"
   ]
  },
  {
   "cell_type": "code",
   "execution_count": 51,
   "id": "b88326c4-b140-4b2b-9540-361ae68987b7",
   "metadata": {},
   "outputs": [],
   "source": [
    "import pandas as pd\n",
    "import numpy as np\n",
    "import os"
   ]
  },
  {
   "cell_type": "markdown",
   "id": "6b1a36e4-4e60-400e-a879-a502cd7c149a",
   "metadata": {},
   "source": [
    "#### 2. Importing data"
   ]
  },
  {
   "cell_type": "code",
   "execution_count": 81,
   "id": "d6ebc19d-14ba-4a3f-844c-998305b7b779",
   "metadata": {},
   "outputs": [],
   "source": [
    "#create path\n",
    "path = r'C:\\Users\\Daniella\\ACH6'\n",
    "#data set\n",
    "df_gun = pd.read_csv(os.path.join(path, 'Original Data', 'gun violence original.csv'))"
   ]
  },
  {
   "cell_type": "code",
   "execution_count": 87,
   "id": "959175a9-5d4e-46a1-af6c-308e5b3b3a83",
   "metadata": {},
   "outputs": [
    {
     "data": {
      "text/plain": [
       "(239677, 28)"
      ]
     },
     "execution_count": 87,
     "metadata": {},
     "output_type": "execute_result"
    }
   ],
   "source": [
    "df_gun.shape"
   ]
  },
  {
   "cell_type": "code",
   "execution_count": 117,
   "id": "bd0985d9-832f-4694-8889-b5f1c6b739b1",
   "metadata": {},
   "outputs": [
    {
     "name": "stdout",
     "output_type": "stream",
     "text": [
      "incident_id                      0\n",
      "date                             0\n",
      "state                            0\n",
      "city_or_county                   0\n",
      "address                          0\n",
      "n_killed                         0\n",
      "n_injured                        0\n",
      "congressional_district           0\n",
      "gun_stolen                   99498\n",
      "gun_type                     99451\n",
      "incident_characteristics       326\n",
      "latitude                      7923\n",
      "location_description        197588\n",
      "longitude                     7923\n",
      "n_guns_involved              99451\n",
      "participant_age              92298\n",
      "participant_age_group        42119\n",
      "participant_gender           36362\n",
      "participant_relationship    223903\n",
      "participant_status           27626\n",
      "participant_type             24863\n",
      "state_house_district         38772\n",
      "state_senate_district        32335\n",
      "dtype: int64\n"
     ]
    }
   ],
   "source": [
    "missing_values = df_gun.isnull().sum()\n",
    "print(missing_values)"
   ]
  },
  {
   "cell_type": "markdown",
   "id": "e55dbbae-00ef-4893-8bf4-04e011a9bc5c",
   "metadata": {},
   "source": [
    "#### 3. Data cleaning"
   ]
  },
  {
   "cell_type": "markdown",
   "id": "6814973e-18c9-44ef-be5d-37fe8bdf9f16",
   "metadata": {},
   "source": [
    "##### Drop Unnecessary columns:"
   ]
  },
  {
   "cell_type": "code",
   "execution_count": 85,
   "id": "6e59352b-9b52-4be5-81bf-db5fa5f3df14",
   "metadata": {},
   "outputs": [],
   "source": [
    "df_gun = df_gun.drop(columns=[\"participant_name\"])"
   ]
  },
  {
   "cell_type": "code",
   "execution_count": 97,
   "id": "a3ec5a81-8fdf-4d41-b67b-aaf5ec2251ec",
   "metadata": {},
   "outputs": [],
   "source": [
    "df_gun = df_gun.drop(columns=[\"incident_url\"])"
   ]
  },
  {
   "cell_type": "code",
   "execution_count": 99,
   "id": "b168894d-c7cc-4bf3-b8db-29d287c93333",
   "metadata": {},
   "outputs": [],
   "source": [
    "df_gun = df_gun.drop(columns=[\"source_url\"])"
   ]
  },
  {
   "cell_type": "code",
   "execution_count": 101,
   "id": "e04f9395-2d83-4667-9fc5-51e5d2f1361b",
   "metadata": {},
   "outputs": [],
   "source": [
    "df_gun = df_gun.drop(columns=[\"incident_url_fields_missing\"])"
   ]
  },
  {
   "cell_type": "code",
   "execution_count": 103,
   "id": "73fb94d7-4c72-44d7-b260-438fd55a7130",
   "metadata": {},
   "outputs": [],
   "source": [
    "df_gun = df_gun.drop(columns=[\"notes\"])"
   ]
  },
  {
   "cell_type": "code",
   "execution_count": 105,
   "id": "bfb7313c-f728-437e-a2ff-6c56a8293e1b",
   "metadata": {},
   "outputs": [],
   "source": [
    "df_gun = df_gun.drop(columns=[\"sources\"])"
   ]
  },
  {
   "cell_type": "markdown",
   "id": "c0fbe2dd-abc1-47d2-b5dd-a644ee579b6a",
   "metadata": {},
   "source": [
    "##### Replace missing values with \"Unknown\":"
   ]
  },
  {
   "cell_type": "code",
   "execution_count": 115,
   "id": "f72841fb-9e5c-4310-879f-c3eca832700f",
   "metadata": {},
   "outputs": [],
   "source": [
    "#Handle missing values in \"address\" column:\n",
    "df_gun['address'] = df_gun['address'].fillna('Unknown')"
   ]
  },
  {
   "cell_type": "code",
   "execution_count": 119,
   "id": "60e6fae2-4606-489f-a358-22230b6c68ed",
   "metadata": {},
   "outputs": [],
   "source": [
    "#Handle missing values in \"congressional_district\" column:\n",
    "df_gun['congressional_district'] = df_gun['congressional_district'].fillna('Unknown')"
   ]
  },
  {
   "cell_type": "code",
   "execution_count": 121,
   "id": "5306ec6e-dbd4-44ca-994a-76a6400890d5",
   "metadata": {},
   "outputs": [],
   "source": [
    "#Handle missing values in \"gun_stolen\" column:\n",
    "df_gun['gun_stolen'] = df_gun['gun_stolen'].fillna('Nan')"
   ]
  },
  {
   "cell_type": "code",
   "execution_count": 123,
   "id": "47ba8d23-c4f5-4bc6-b490-a232c9ebee65",
   "metadata": {},
   "outputs": [],
   "source": [
    "#Handle missing values in \"gun_type\" column:\n",
    "df_gun['gun_type'] = df_gun['gun_type'].fillna('Unknown')"
   ]
  },
  {
   "cell_type": "code",
   "execution_count": 125,
   "id": "8beec5f7-99f4-421f-88cf-fe2a338f8153",
   "metadata": {},
   "outputs": [],
   "source": [
    "#Handle missing values in \"incident_characteristics\" column:\n",
    "df_gun['incident_characteristics'] = df_gun['incident_characteristics'].fillna('Unknown')"
   ]
  },
  {
   "cell_type": "code",
   "execution_count": 127,
   "id": "6c9082d7-0e1c-4612-8eaf-d077900dcaaa",
   "metadata": {},
   "outputs": [],
   "source": [
    "#Handle missing values in \"latitude\" column:\n",
    "df_gun['latitude'] = df_gun['latitude'].fillna('Unknown')"
   ]
  },
  {
   "cell_type": "code",
   "execution_count": 129,
   "id": "7d85dc6f-5c52-47fc-8346-78fbb7c373d0",
   "metadata": {},
   "outputs": [],
   "source": [
    "#Handle missing values in \"location_description\" column:\n",
    "df_gun['location_description'] = df_gun['location_description'].fillna('Unknown')"
   ]
  },
  {
   "cell_type": "code",
   "execution_count": 131,
   "id": "2e05787c-2d0d-47bb-81e2-f4a0fe911df2",
   "metadata": {},
   "outputs": [],
   "source": [
    "#Handle missing values in \"longitude \" column:\n",
    "df_gun['longitude'] = df_gun['longitude'].fillna('Unknown')"
   ]
  },
  {
   "cell_type": "code",
   "execution_count": 133,
   "id": "8b8d6a98-3e36-4ad4-8a14-608f756777cf",
   "metadata": {},
   "outputs": [],
   "source": [
    "#Handle missing values in \"n_guns_involved\" column:\n",
    "df_gun['n_guns_involved'] = df_gun['n_guns_involved'].fillna('Unknown')"
   ]
  },
  {
   "cell_type": "code",
   "execution_count": 135,
   "id": "4a4bc122-8c7b-49ac-882b-4a762f9ee0e5",
   "metadata": {},
   "outputs": [],
   "source": [
    "#Handle missing values in \"participant_age\" column:\n",
    "df_gun['participant_age'] = df_gun['participant_age'].fillna('Unknown')"
   ]
  },
  {
   "cell_type": "code",
   "execution_count": 137,
   "id": "264b7f36-c17d-4c10-a92a-c5a77c19a8cd",
   "metadata": {},
   "outputs": [],
   "source": [
    "#Handle missing values in \"participant_age_group\" column:\n",
    "df_gun['participant_age_group'] = df_gun['participant_age_group'].fillna('Unknown')"
   ]
  },
  {
   "cell_type": "code",
   "execution_count": 139,
   "id": "0f41d586-3cda-414f-bcc1-2ab42967b62a",
   "metadata": {},
   "outputs": [],
   "source": [
    "#Handle missing values in \"participant_gender\" column:\n",
    "df_gun['participant_gender'] = df_gun['participant_gender'].fillna('Unknown')"
   ]
  },
  {
   "cell_type": "code",
   "execution_count": 141,
   "id": "0a91cbe3-72ac-4c05-89bf-cc47abb95c92",
   "metadata": {},
   "outputs": [],
   "source": [
    "#Handle missing values in \"participant_relationship\" column:\n",
    "df_gun['participant_relationship'] = df_gun['participant_relationship'].fillna('Unknown')"
   ]
  },
  {
   "cell_type": "code",
   "execution_count": 143,
   "id": "b52279d8-6559-4dfe-9c4c-900080bcb549",
   "metadata": {},
   "outputs": [],
   "source": [
    "#Handle missing values in \"participant_status\" column:\n",
    "df_gun['participant_status'] = df_gun['participant_status'].fillna('Unknown')"
   ]
  },
  {
   "cell_type": "code",
   "execution_count": 145,
   "id": "ab2edf14-1782-4c0d-9f62-d103d5a880fe",
   "metadata": {},
   "outputs": [],
   "source": [
    "#Handle missing values in \"participant_type\" column:\n",
    "df_gun['participant_type'] = df_gun['participant_type'].fillna('Unknown')"
   ]
  },
  {
   "cell_type": "code",
   "execution_count": 147,
   "id": "aa8b8bb7-da93-43e6-935e-013b86118b12",
   "metadata": {},
   "outputs": [],
   "source": [
    "#Handle missing values in \"state_house_district\" column:\n",
    "df_gun['state_house_district'] = df_gun['state_house_district'].fillna('Unknown')"
   ]
  },
  {
   "cell_type": "code",
   "execution_count": 149,
   "id": "bbd597f3-46f2-494c-934d-b8ee40545443",
   "metadata": {},
   "outputs": [],
   "source": [
    "#Handle missing values in \"state_senate_district\" column:\n",
    "df_gun['state_senate_district'] = df_gun['state_senate_district'].fillna('Unknown')"
   ]
  },
  {
   "cell_type": "code",
   "execution_count": 151,
   "id": "d0ff5046-7435-4d3b-aad7-fbd93c27e052",
   "metadata": {},
   "outputs": [
    {
     "name": "stdout",
     "output_type": "stream",
     "text": [
      "incident_id                 0\n",
      "date                        0\n",
      "state                       0\n",
      "city_or_county              0\n",
      "address                     0\n",
      "n_killed                    0\n",
      "n_injured                   0\n",
      "congressional_district      0\n",
      "gun_stolen                  0\n",
      "gun_type                    0\n",
      "incident_characteristics    0\n",
      "latitude                    0\n",
      "location_description        0\n",
      "longitude                   0\n",
      "n_guns_involved             0\n",
      "participant_age             0\n",
      "participant_age_group       0\n",
      "participant_gender          0\n",
      "participant_relationship    0\n",
      "participant_status          0\n",
      "participant_type            0\n",
      "state_house_district        0\n",
      "state_senate_district       0\n",
      "dtype: int64\n"
     ]
    }
   ],
   "source": [
    "missing_values = df_gun.isnull().sum()\n",
    "print(missing_values)"
   ]
  },
  {
   "cell_type": "code",
   "execution_count": 153,
   "id": "27c08509-3a3c-4f10-9a56-f47a18c36733",
   "metadata": {},
   "outputs": [],
   "source": [
    "#Export data frame:\n",
    "df_gun.to_csv(os.path.join(path, 'Prepared Data', 'gun violence clean.csv'))"
   ]
  }
 ],
 "metadata": {
  "kernelspec": {
   "display_name": "Python 3 (ipykernel)",
   "language": "python",
   "name": "python3"
  },
  "language_info": {
   "codemirror_mode": {
    "name": "ipython",
    "version": 3
   },
   "file_extension": ".py",
   "mimetype": "text/x-python",
   "name": "python",
   "nbconvert_exporter": "python",
   "pygments_lexer": "ipython3",
   "version": "3.12.4"
  }
 },
 "nbformat": 4,
 "nbformat_minor": 5
}
